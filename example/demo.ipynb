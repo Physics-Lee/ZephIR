{
 "cells": [
  {
   "cell_type": "markdown",
   "metadata": {},
   "source": [
    "# ZephIR Demo\n",
    "\n",
    "[https://github.com/venkatachalamlab/ZephIR](https://github.com/venkatachalamlab/ZephIR)\n",
    "\n",
    "This notebook is a demo to illustrate a typical ZephIR workflow and is accompanied by a general [guide](https://github.com/venkatachalamlab/ZephIR/blob/main/docs/Guide-ZephIR.md) and [tutorial video](https://youtu.be/4O9aIftvoqM).\n",
    "\n",
    "This notebook walks through the steps to analyze the provided short movie of semi-immobilized *C. elegans* with fluorescent IFT-20 expression. We will track the fluorescent neuron nuclei and extract their activity traces."
   ]
  },
  {
   "cell_type": "code",
   "execution_count": 1,
   "metadata": {},
   "outputs": [],
   "source": [
    "# Import ZephIR package\n",
    "from zephir.main import *\n",
    "\n",
    "# ZephIR is mostly run with terminal commands\n",
    "# Subprocess library will be used to emulate this\n",
    "import subprocess"
   ]
  },
  {
   "cell_type": "code",
   "execution_count": 2,
   "metadata": {},
   "outputs": [],
   "source": [
    "# Define path to dataset directory\n",
    "dataset = Path('__file__').parent.absolute() / 'data'"
   ]
  },
  {
   "cell_type": "markdown",
   "metadata": {},
   "source": [
    "## Set up and preprocess dataset\n",
    "To get the most of ZephIR, it is recommended that the data is preprocessed such that noise, photobleaching, and global translation & rotation are reduced. The demo dataset has reduced motion (global translation has been reduced by 50%), but no further preprocessing has been performed.\n",
    "\n",
    "\n",
    "## Set up getters.py\n",
    "Users attempting to work with data with different structures and IO bindings can copy and edit a `getters.py` file that consolidate key IO functions. The demo dataset is fully compatible with the default getters and does not require any further editing. Note that if the dataset directory is missing the getters file entirely, ZephIR will use the defaults."
   ]
  },
  {
   "cell_type": "markdown",
   "metadata": {},
   "source": [
    "## Annotate reference frames\n",
    "\n",
    "ZephIR uses fully-annotated (all keypoints to be tracked are annotated) reference frames to seed the registration and tracking process. The built-in recommendation function uses k-medoids clustering to find N median frames that are most similar to most of the frames in the data. After determining the frames you want to use as reference frames, the included annotator GUI allows users to create annotations for those frames.\n",
    "\n",
    "Run the following cells to create new annotations. Alternatively, to skip to the next step, copy the file `annotations-2.h5` in the backup folder into this folder and rename it to `annotations.h5`. This file contains annotations for the first recommended frame (plus one frame that includes a neuron that is not visible in the recommended frame)."
   ]
  },
  {
   "cell_type": "code",
   "execution_count": 3,
   "metadata": {},
   "outputs": [
    {
     "data": {
      "text/plain": [
       "CompletedProcess(args='recommend_frames --dataset=d:\\\\Public_repository\\\\ZephIR\\\\example\\\\data --channel=1', returncode=0)"
      ]
     },
     "execution_count": 3,
     "metadata": {},
     "output_type": "execute_result"
    }
   ],
   "source": [
    "# Determine the best frames to annotate as reference frames\n",
    "subprocess.run(f'recommend_frames --dataset={dataset} --channel=1', shell=True)"
   ]
  },
  {
   "cell_type": "code",
   "execution_count": 5,
   "metadata": {},
   "outputs": [
    {
     "data": {
      "text/plain": [
       "'recommend_frames --dataset=d:\\\\Public_repository\\\\ZephIR\\\\example\\\\data --channel=1'"
      ]
     },
     "execution_count": 5,
     "metadata": {},
     "output_type": "execute_result"
    }
   ],
   "source": [
    "f'recommend_frames --dataset={dataset} --channel=1'"
   ]
  },
  {
   "cell_type": "code",
   "execution_count": 6,
   "metadata": {},
   "outputs": [
    {
     "data": {
      "text/plain": [
       "CompletedProcess(args='annotator --dataset=d:\\\\Public_repository\\\\ZephIR\\\\example\\\\data --port=5001', returncode=1)"
      ]
     },
     "execution_count": 6,
     "metadata": {},
     "output_type": "execute_result"
    }
   ],
   "source": [
    "# Launch annotator to create annotations for reference frames\n",
    "# Run this cell then open in a web browser: localhost:5001\n",
    "subprocess.run(f'annotator --dataset={dataset} --port=5001', shell=True)"
   ]
  },
  {
   "cell_type": "markdown",
   "metadata": {},
   "source": [
    "## Run ZephIR\n",
    "\n",
    "Run the following cell to run ZephIR with either the provided or the newly created annotations. ZephIR will use parameter and options outlined in `args.json`. Feel free to play with these parameters to test how they affect tracking quality.\n",
    "\n",
    "ZephIR will create a movie annotated with the tracking results (`annotated.mp4`). This can be used to check results at a glance, but the annotator can be used for more detailed and careful verification of results. Any annotation with the provenance `ZEIR` is a tracking result automatically generated by ZephIR."
   ]
  },
  {
   "cell_type": "code",
   "execution_count": 7,
   "metadata": {},
   "outputs": [
    {
     "data": {
      "text/plain": [
       "CompletedProcess(args='zephir --dataset=d:\\\\Public_repository\\\\ZephIR\\\\example\\\\data --load_args=True', returncode=1)"
      ]
     },
     "execution_count": 7,
     "metadata": {},
     "output_type": "execute_result"
    }
   ],
   "source": [
    "# Launch ZephIR to track keypoints as defined in fully-annotated reference frames\n",
    "# User-tunable options are defined in the included args.json file\n",
    "\n",
    "# Non-default arguments include:\n",
    "# channel=1\n",
    "# fovea_sigma=5.0\n",
    "# grid_shape=35\n",
    "# lambda_n=0.1\n",
    "# lr_ceiling=0.06\n",
    "# lr_floor=0.01\n",
    "# z_compensator=4.0\n",
    "\n",
    "subprocess.run(f'zephir --dataset={dataset} --load_args=True', shell=True)"
   ]
  },
  {
   "cell_type": "markdown",
   "metadata": {},
   "source": [
    "## Verify results and correct errors\n",
    "\n",
    "Launch the annotator for a detailed and careful verification of ZephIR tracking results.\n",
    "\n",
    "Fix badly tracked frames by:\n",
    "\n",
    "1. Verify a few correct tracking results by changing their provenance from `ZEIR` to another (`ANTT` by default). The macro `change_provenance` can do this efficiently.\n",
    "2. Delete a few incorrect tracking results and insert new annotations for those keypoint at the correct locations.\n",
    "3. Run the macro `update_frame` from the annotator GUI to run ZephIR for any remaining keypoints in the frame. It will use both verified correct results and fixed incorrect ones to improve tracking quality for the rest of the keypoints.\n",
    "\n",
    "Alternatively, to skip to the next step, copy the file `annotations-g.h5` in the backup folder into this folder and rename it to `annotations.h5`. This file contains annotations for the first recommended frame, one frame including a neuron that is not visible in the recommended frame, partial annotations for a badly tracked frame (t=23), and ZephIR results for the rest. Note that adding partial annotations for the badly tracked frame not only fixes the remaining neurons in that frame, but results in all its child frames as well."
   ]
  },
  {
   "cell_type": "code",
   "execution_count": 8,
   "metadata": {},
   "outputs": [
    {
     "data": {
      "text/plain": [
       "CompletedProcess(args='annotator --dataset=d:\\\\Public_repository\\\\ZephIR\\\\example\\\\data --port=5001', returncode=1)"
      ]
     },
     "execution_count": 8,
     "metadata": {},
     "output_type": "execute_result"
    }
   ],
   "source": [
    "# Launch annotator to verify results and correct errors\n",
    "# Run this cell then open in a web browser: localhost:5001\n",
    "subprocess.run(f'annotator --dataset={dataset} --port=5001', shell=True)"
   ]
  },
  {
   "cell_type": "markdown",
   "metadata": {},
   "source": [
    "## Extract neuronal activity traces\n",
    "\n",
    "Run the following cell to extract traces of neuronal activity. Neuronal activity, expressed as fluorescent intensity in the confocal microscopy recording, is calculated as the average of 9 maximal pixel intensities in a 3x7x7 crop around the tracked coordinates in each frame (after masking out any neighboring neurons that may end up in the crop). Traces extracted using tracking results in `annotations-g.h5` in the backup folder is also available in the backup folder as `traces.png`."
   ]
  },
  {
   "cell_type": "code",
   "execution_count": 9,
   "metadata": {},
   "outputs": [
    {
     "data": {
      "text/plain": [
       "CompletedProcess(args='extract_traces --dataset=d:\\\\Public_repository\\\\ZephIR\\\\example\\\\data --channel=1', returncode=1)"
      ]
     },
     "execution_count": 9,
     "metadata": {},
     "output_type": "execute_result"
    }
   ],
   "source": [
    "# Launch trace extraction to extract fluorescence intensity using tracked centers\n",
    "subprocess.run(f'extract_traces --dataset={dataset} --channel=1', shell=True)"
   ]
  },
  {
   "cell_type": "code",
   "execution_count": 12,
   "metadata": {},
   "outputs": [
    {
     "data": {
      "text/plain": [
       "WindowsPath('d:/Public_repository/ZephIR/example/data/backup/traces.npy')"
      ]
     },
     "execution_count": 12,
     "metadata": {},
     "output_type": "execute_result"
    }
   ],
   "source": [
    "Path('__file__').parent.absolute() / 'data' / 'backup' / 'traces.npy'"
   ]
  },
  {
   "cell_type": "code",
   "execution_count": 14,
   "metadata": {},
   "outputs": [],
   "source": [
    "traces = np.load(Path('__file__').parent.absolute() / 'data' / 'backup' / 'traces.npy')"
   ]
  },
  {
   "cell_type": "code",
   "execution_count": 17,
   "metadata": {},
   "outputs": [],
   "source": [
    "traces_2D = traces[0,0:22,:]"
   ]
  },
  {
   "cell_type": "code",
   "execution_count": 18,
   "metadata": {},
   "outputs": [
    {
     "ename": "ModuleNotFoundError",
     "evalue": "No module named 'seaborn'",
     "output_type": "error",
     "traceback": [
      "\u001b[1;31m---------------------------------------------------------------------------\u001b[0m",
      "\u001b[1;31mModuleNotFoundError\u001b[0m                       Traceback (most recent call last)",
      "\u001b[1;32md:\\Public_repository\\ZephIR\\example\\demo.ipynb Cell 18\u001b[0m line \u001b[0;36m2\n\u001b[0;32m      <a href='vscode-notebook-cell:/d%3A/Public_repository/ZephIR/example/demo.ipynb#X23sZmlsZQ%3D%3D?line=0'>1</a>\u001b[0m \u001b[39mimport\u001b[39;00m \u001b[39mmatplotlib\u001b[39;00m\u001b[39m.\u001b[39;00m\u001b[39mpyplot\u001b[39;00m \u001b[39mas\u001b[39;00m \u001b[39mplt\u001b[39;00m\n\u001b[1;32m----> <a href='vscode-notebook-cell:/d%3A/Public_repository/ZephIR/example/demo.ipynb#X23sZmlsZQ%3D%3D?line=1'>2</a>\u001b[0m \u001b[39mimport\u001b[39;00m \u001b[39mseaborn\u001b[39;00m \u001b[39mas\u001b[39;00m \u001b[39msns\u001b[39;00m\n\u001b[0;32m      <a href='vscode-notebook-cell:/d%3A/Public_repository/ZephIR/example/demo.ipynb#X23sZmlsZQ%3D%3D?line=2'>3</a>\u001b[0m \u001b[39mimport\u001b[39;00m \u001b[39mnumpy\u001b[39;00m \u001b[39mas\u001b[39;00m \u001b[39mnp\u001b[39;00m\n\u001b[0;32m      <a href='vscode-notebook-cell:/d%3A/Public_repository/ZephIR/example/demo.ipynb#X23sZmlsZQ%3D%3D?line=4'>5</a>\u001b[0m \u001b[39m# Assuming 'data' is your 23x512 ndarray\u001b[39;00m\n",
      "\u001b[1;31mModuleNotFoundError\u001b[0m: No module named 'seaborn'"
     ]
    }
   ],
   "source": [
    "import matplotlib.pyplot as plt\n",
    "import seaborn as sns\n",
    "import numpy as np\n",
    "\n",
    "# Assuming 'data' is your 23x512 ndarray\n",
    "data = traces_2D  # Replace with your actual data\n",
    "\n",
    "plt.figure(figsize=(20, 10))\n",
    "sns.heatmap(data, cmap=\"viridis\")\n",
    "plt.xlabel(\"Frames\")\n",
    "plt.ylabel(\"Neurons\")\n",
    "plt.title(\"Calcium Imaging Trace of Neurons\")\n",
    "plt.show()"
   ]
  },
  {
   "cell_type": "code",
   "execution_count": null,
   "metadata": {},
   "outputs": [],
   "source": [
    "import matplotlib.pyplot as plt\n",
    "import numpy as np\n",
    "\n",
    "# Assuming 'data' is your 23x512 ndarray\n",
    "data = np.random.rand(23, 512)  # Replace with your actual data\n",
    "\n",
    "plt.figure(figsize=(20, 10))\n",
    "for i in range(data.shape[0]):\n",
    "    plt.plot(data[i], label=f'Neuron {i+1}')\n",
    "\n",
    "plt.xlabel(\"Frames\")\n",
    "plt.ylabel(\"Activity Level\")\n",
    "plt.title(\"Calcium Imaging Trace of Neurons\")\n",
    "plt.legend()\n",
    "plt.show()"
   ]
  }
 ],
 "metadata": {
  "kernelspec": {
   "display_name": "Python 3 (ipykernel)",
   "language": "python",
   "name": "python3"
  },
  "language_info": {
   "codemirror_mode": {
    "name": "ipython",
    "version": 3
   },
   "file_extension": ".py",
   "mimetype": "text/x-python",
   "name": "python",
   "nbconvert_exporter": "python",
   "pygments_lexer": "ipython3",
   "version": "3.11.5"
  }
 },
 "nbformat": 4,
 "nbformat_minor": 1
}
