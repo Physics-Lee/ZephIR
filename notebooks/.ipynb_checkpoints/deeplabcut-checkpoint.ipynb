{
 "cells": [
  {
   "cell_type": "code",
   "execution_count": null,
   "id": "ef7670b1",
   "metadata": {},
   "outputs": [],
   "source": [
    "from neuronir.methods import *\n",
    "from neuronir.models.container import Container\n",
    "from neuronir.utils.io import *\n",
    "\n",
    "from neuronir.methods.recommend_frames import recommend_frames\n",
    "from neuronir.methods.extract_traces import extract_traces\n",
    "\n",
    "%matplotlib inline\n",
    "import matplotlib.pyplot as plt\n",
    "from tqdm.notebook import tqdm"
   ]
  },
  {
   "cell_type": "code",
   "execution_count": null,
   "id": "1a1baab1",
   "metadata": {},
   "outputs": [],
   "source": [
    "# path to dataset\n",
    "dataset = Path('.')"
   ]
  }
 ],
 "metadata": {
  "kernelspec": {
   "display_name": "Python 3 (ipykernel)",
   "language": "python",
   "name": "python3"
  },
  "language_info": {
   "codemirror_mode": {
    "name": "ipython",
    "version": 3
   },
   "file_extension": ".py",
   "mimetype": "text/x-python",
   "name": "python",
   "nbconvert_exporter": "python",
   "pygments_lexer": "ipython3",
   "version": "3.9.12"
  }
 },
 "nbformat": 4,
 "nbformat_minor": 5
}
