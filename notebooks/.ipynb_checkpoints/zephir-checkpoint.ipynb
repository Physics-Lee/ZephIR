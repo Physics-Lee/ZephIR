{
 "cells": [
  {
   "cell_type": "code",
   "execution_count": null,
   "metadata": {
    "pycharm": {
     "is_executing": false,
     "name": "#%%\n"
    },
    "scrolled": false
   },
   "outputs": [],
   "source": [
    "from neuronir.methods import *\n",
    "from neuronir.models.container import Container\n",
    "from neuronir.utils.io import *\n",
    "\n",
    "from neuronir.methods.recommend_frames import recommend_frames\n",
    "from neuronir.methods.extract_traces import extract_traces\n",
    "\n",
    "%matplotlib inline\n",
    "import matplotlib.pyplot as plt\n",
    "from tqdm.notebook import tqdm"
   ]
  },
  {
   "cell_type": "code",
   "execution_count": null,
   "metadata": {
    "pycharm": {
     "is_executing": false,
     "name": "#%%\n"
    },
    "scrolled": false
   },
   "outputs": [],
   "source": [
    "# path to dataset\n",
    "dataset = Path('.')"
   ]
  },
  {
   "cell_type": "code",
   "execution_count": null,
   "metadata": {
    "pycharm": {
     "name": "#%%\n"
    },
    "scrolled": true
   },
   "outputs": [],
   "source": [
    "# searching for optimal reference frames\n",
    "# at least one manually annotated reference frame is required\n",
    "recommend_frames(\n",
    "    dataset=dataset,\n",
    "    n_frames=10, \n",
    "    n_iter=-1, \n",
    "    t_list=None, \n",
    "    channel=1,\n",
    "    save_to_metadata=False, \n",
    "    verbose=True\n",
    ")"
   ]
  },
  {
   "cell_type": "code",
   "execution_count": null,
   "metadata": {},
   "outputs": [],
   "source": [
    "# defining variable container with some key arguments\n",
    "container = Container(\n",
    "    dataset=dataset,\n",
    "    allow_rotation=False,\n",
    "    channel=1,\n",
    "    dev='cpu',\n",
    "    exclude_self=True,\n",
    "    exclusive_prov=None,\n",
    "    gamma=2,\n",
    "    include_all=True,\n",
    "    n_frame=1,\n",
    "    z_compensator=-1,\n",
    ")"
   ]
  },
  {
   "cell_type": "code",
   "execution_count": null,
   "metadata": {},
   "outputs": [],
   "source": [
    "# loading and handling annotations\n",
    "container, results = build_annotations(\n",
    "    container=container,\n",
    "    annotation=None,\n",
    "    t_ref=None,\n",
    "    wlid_ref=None,\n",
    "    n_ref=None,\n",
    ")"
   ]
  },
  {
   "cell_type": "code",
   "execution_count": null,
   "metadata": {},
   "outputs": [],
   "source": [
    "# compiling models\n",
    "container, zephir, zephod = build_models(\n",
    "    container=container,\n",
    "    dimmer_ratio=0.1,\n",
    "    grid_shape=(5, 25, 25),\n",
    "    fovea_sigma=(1, 2.5, 2.5),\n",
    "    n_chunks=10,\n",
    ")"
   ]
  },
  {
   "cell_type": "code",
   "execution_count": null,
   "metadata": {},
   "outputs": [],
   "source": [
    "# compiling spring network\n",
    "container = build_springs(\n",
    "    container=container,\n",
    "    load_nn=True,\n",
    "    nn_max=5,\n",
    "    verbose=True,\n",
    ")"
   ]
  },
  {
   "cell_type": "code",
   "execution_count": null,
   "metadata": {},
   "outputs": [],
   "source": [
    "# building frame tree\n",
    "container = build_tree(\n",
    "    container=container,\n",
    "    sort_mode='similarity',\n",
    "    t_ignore=None,\n",
    "    verbose=True,\n",
    ")"
   ]
  },
  {
   "cell_type": "code",
   "execution_count": null,
   "metadata": {},
   "outputs": [],
   "source": [
    "# tracking\n",
    "container, results = track_all(\n",
    "    container=container,\n",
    "    results=results,\n",
    "    zephir=zephir,\n",
    "    zephod=zephod,\n",
    "    clip_grad=1.0,\n",
    "    lambda_t=-1,\n",
    "    lambda_d=-1,\n",
    "    lambda_n=1.0,\n",
    "    lambda_n_mode='norm',\n",
    "    lr_ceiling=0.2,\n",
    "    lr_coef=2.0,\n",
    "    lr_floor=0.01,\n",
    "    motion_predict=True,\n",
    "    n_epoch=40,\n",
    "    n_epoch_d=0,\n",
    "    _t_list=None,\n",
    ")"
   ]
  },
  {
   "cell_type": "code",
   "execution_count": null,
   "metadata": {},
   "outputs": [],
   "source": [
    "save_annotations(\n",
    "    container=container,\n",
    "    results=results,\n",
    "    save_mode='o',\n",
    ")"
   ]
  },
  {
   "cell_type": "code",
   "execution_count": null,
   "metadata": {},
   "outputs": [],
   "source": [
    "save_movie(\n",
    "    container=container,\n",
    "    results=results,\n",
    ")"
   ]
  },
  {
   "cell_type": "code",
   "execution_count": null,
   "metadata": {},
   "outputs": [],
   "source": [
    "# extracting GCamP fluorescence activity traces\n",
    "extract_traces(\n",
    "    dataset=dataset,\n",
    "    channel=1,\n",
    "    cuda=True,\n",
    "    cutoff=1.0,\n",
    "    debleach=True,\n",
    "    n_chunks=10,\n",
    "    n_cluster=1.0,\n",
    "    nn_max=5,\n",
    "    rma_channel=None,\n",
    "    t_list=None,\n",
    "    dist_thresh=0.4,\n",
    "    verbose=True,\n",
    "    wlid_ref=None,\n",
    ")"
   ]
  }
 ],
 "metadata": {
  "kernelspec": {
   "display_name": "Python 3 (ipykernel)",
   "language": "python",
   "name": "python3"
  },
  "language_info": {
   "codemirror_mode": {
    "name": "ipython",
    "version": 3
   },
   "file_extension": ".py",
   "mimetype": "text/x-python",
   "name": "python",
   "nbconvert_exporter": "python",
   "pygments_lexer": "ipython3",
   "version": "3.9.12"
  }
 },
 "nbformat": 4,
 "nbformat_minor": 1
}
