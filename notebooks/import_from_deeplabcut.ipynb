{
 "cells": [
  {
   "cell_type": "code",
   "execution_count": null,
   "metadata": {
    "collapsed": true
   },
   "outputs": [],
   "source": [
    "import pandas as pd\n",
    "import shutil\n",
    "import yaml\n",
    "\n",
    "from zephir.utils.utils import *\n",
    "\n",
    "%matplotlib inline\n",
    "from tqdm.notebook import tqdm"
   ]
  },
  {
   "cell_type": "code",
   "execution_count": null,
   "outputs": [],
   "source": [
    "# path to Zephir dataset\n",
    "dataset = Path('.')\n",
    "\n",
    "# path to DeepLabCut project directory\n",
    "path_to_dlc_project = Path('.')"
   ],
   "metadata": {
    "collapsed": false,
    "pycharm": {
     "name": "#%%\n"
    }
   }
  },
  {
   "cell_type": "code",
   "execution_count": null,
   "outputs": [],
   "source": [
    "with open(str(path_to_dlc_project / 'config.yaml'), 'r') as cfg:\n",
    "    config = yaml.safe_load(cfg)\n",
    "bodyparts = config['bodyparts']\n",
    "\n",
    "shape_n = len(bodyparts)\n",
    "\n",
    "metadata = get_metadata(dataset)\n",
    "shape_t = metadata['shape_t']\n",
    "img_shape = np.array([metadata['shape_x'], metadata['shape_y'], 1])\n",
    "\n",
    "provenance = np.array([[bytes(provenance)] * shape_n] * shape_t)"
   ],
   "metadata": {
    "collapsed": false,
    "pycharm": {
     "name": "#%%\n"
    }
   }
  },
  {
   "cell_type": "code",
   "execution_count": null,
   "outputs": [],
   "source": [
    "csv = pd.read_csv(str(dataset / 'data.csv'), header=[1, 2], index_col=0)\n",
    "df = pd.DataFrame()\n",
    "for k in csv:\n",
    "    df[k] = csv[k]\n",
    "\n",
    "t_list = df[('bodyparts', 'coords')]"
   ],
   "metadata": {
    "collapsed": false,
    "pycharm": {
     "name": "#%%\n"
    }
   }
  },
  {
   "cell_type": "code",
   "execution_count": null,
   "outputs": [],
   "source": [
    "for t in tqdm(t_list, desc='Converting DLC results', unit='frame'):\n",
    "    xyz_dlc = np.zeros((len(worldline_id), 3))\n",
    "    for j, part in enumerate(dlc_parts):\n",
    "        xyz = np.stack([(df[(part, 'x')][t]).astype(float),\n",
    "                        (df[(part, 'y')][t]).astype(float),\n",
    "                        0],\n",
    "                       axis=-1)\n",
    "        xyz_dlc[j] = xyz\n",
    "    rms_dlc = np.mean(np.linalg.norm(xyz_target[i, :, :2] - xyz_dlc[:, :2], axis=-1))\n",
    "    rms_dlc_avg += rms_dlc / len(t_target)\n",
    "    m_dlc[i] = xyz_dlc[:, :2]"
   ],
   "metadata": {
    "collapsed": false,
    "pycharm": {
     "name": "#%%\n"
    }
   }
  },
  {
   "cell_type": "code",
   "execution_count": null,
   "outputs": [],
   "source": [
    "if not (dataset / 'backup').is_dir():\n",
    "    Path.mkdir(dataset / 'backup')\n",
    "now = datetime.datetime.now()\n",
    "now_ = now.strftime(\"%m_%d_%Y_%H_%M\")\n",
    "shutil.copy(dataset / 'annotations.h5',\n",
    "            dataset / 'backup' / f'annotations_{now_}.h5')"
   ],
   "metadata": {
    "collapsed": false,
    "pycharm": {
     "name": "#%%\n"
    }
   }
  },
  {
   "cell_type": "code",
   "execution_count": null,
   "outputs": [],
   "source": [
    "# saving result to .h5\n",
    "print('\\nCompiling and saving results to file...')\n",
    "xyz_pd = np.concatenate(\n",
    "    (np.repeat(np.arange(shape_t), shape_n)[:, None],\n",
    "     results.reshape((-1, 3)) / 2.0 + 0.5,\n",
    "     np.tile(np.arange(shape_n), shape_t)[:, None],\n",
    "     np.repeat(np.arange(shape_t), shape_n)[:, None],\n",
    "     provenance.reshape((-1, 1))),\n",
    "    axis=-1\n",
    ")"
   ],
   "metadata": {
    "collapsed": false,
    "pycharm": {
     "name": "#%%\n"
    }
   }
  },
  {
   "cell_type": "code",
   "execution_count": null,
   "outputs": [],
   "source": [
    "f = h5py.File(dataset / 'annotations.h5', mode='w')\n",
    "\n",
    "data = np.array(list(range(1, xyz_pd.shape[0] + 1)), dtype=np.uint32)\n",
    "f.create_dataset('id', shape=(xyz_pd.shape[0],), dtype=np.uint32, data=data)\n",
    "\n",
    "columns = {\n",
    "    't_idx': np.uint32,\n",
    "    'x': np.float32,\n",
    "    'y': np.float32,\n",
    "    'z': np.float32,\n",
    "    'worldline_id': np.uint32,\n",
    "    'parent_id': np.uint32,\n",
    "    'provenance': np.dtype(\"S4\"),\n",
    "}\n",
    "\n",
    "for i, c in enumerate(columns.keys()):\n",
    "    if c == 'provenance':\n",
    "        data = np.array(xyz_pd[:, i], dtype=columns[c])\n",
    "    else:\n",
    "        data = np.array(xyz_pd[:, i].astype(np.float32), dtype=columns[c])\n",
    "    f.create_dataset(c, shape=(xyz_pd.shape[0],), dtype=columns[c], data=data)\n",
    "\n",
    "f.close()"
   ],
   "metadata": {
    "collapsed": false,
    "pycharm": {
     "name": "#%%\n"
    }
   }
  }
 ],
 "metadata": {
  "kernelspec": {
   "display_name": "Python 3",
   "language": "python",
   "name": "python3"
  },
  "language_info": {
   "codemirror_mode": {
    "name": "ipython",
    "version": 2
   },
   "file_extension": ".py",
   "mimetype": "text/x-python",
   "name": "python",
   "nbconvert_exporter": "python",
   "pygments_lexer": "ipython2",
   "version": "2.7.6"
  }
 },
 "nbformat": 4,
 "nbformat_minor": 0
}