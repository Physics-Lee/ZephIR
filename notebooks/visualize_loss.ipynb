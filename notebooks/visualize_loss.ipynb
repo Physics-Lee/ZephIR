{
 "cells": [
  {
   "cell_type": "code",
   "execution_count": null,
   "metadata": {},
   "outputs": [],
   "source": [
    "from zephir.methods import *\n",
    "from zephir.methods.plot_loss_maps import plot_loss_maps\n",
    "from zephir.methods.get_optimization_trajectory import get_optimization_trajectory\n",
    "from zephir.models.container import Container\n",
    "from zephir.utils.utils import *\n",
    "\n",
    "%matplotlib inline"
   ]
  },
  {
   "cell_type": "code",
   "execution_count": null,
   "metadata": {
    "pycharm": {
     "name": "#%%\n"
    }
   },
   "outputs": [],
   "source": [
    "# path to dataset\n",
    "dataset = Path('.')"
   ]
  },
  {
   "cell_type": "code",
   "execution_count": null,
   "metadata": {
    "pycharm": {
     "name": "#%%\n"
    }
   },
   "outputs": [],
   "source": [
    "# defining variable container with some key arguments\n",
    "container = Container(\n",
    "    dataset=dataset,\n",
    "    allow_rotation=False,\n",
    "    channel=1,\n",
    "    dev='cpu',\n",
    "    exclude_self=True,\n",
    "    exclusive_prov=None,\n",
    "    gamma=2,\n",
    "    include_all=True,\n",
    "    n_frame=1,\n",
    "    z_compensator=4.0,\n",
    ")"
   ]
  },
  {
   "cell_type": "code",
   "execution_count": null,
   "metadata": {
    "pycharm": {
     "name": "#%%\n"
    }
   },
   "outputs": [],
   "source": [
    "# loading and handling annotations\n",
    "container, results = build_annotations(\n",
    "    container=container,\n",
    "    annotation=None,\n",
    "    t_ref=None,\n",
    "    wlid_ref=None,\n",
    "    n_ref=None,\n",
    ")"
   ]
  },
  {
   "cell_type": "code",
   "execution_count": null,
   "metadata": {
    "pycharm": {
     "name": "#%%\n"
    }
   },
   "outputs": [],
   "source": [
    "# compiling models\n",
    "container, zephir, zephod = build_models(\n",
    "    container=container,\n",
    "    dimmer_ratio=0.1,\n",
    "    grid_shape=(5, 25, 25),\n",
    "    fovea_sigma=(1, 2.5, 2.5),\n",
    "    n_chunks=10,\n",
    ")"
   ]
  },
  {
   "cell_type": "code",
   "execution_count": null,
   "metadata": {
    "pycharm": {
     "name": "#%%\n"
    },
    "scrolled": false
   },
   "outputs": [],
   "source": [
    "# compiling spring network\n",
    "container = build_springs(\n",
    "    container=container,\n",
    "    load_nn=False,\n",
    "    nn_max=5,\n",
    "    verbose=True,\n",
    ")"
   ]
  },
  {
   "cell_type": "code",
   "execution_count": null,
   "metadata": {
    "pycharm": {
     "name": "#%%\n"
    }
   },
   "outputs": [],
   "source": [
    "# define three frames, including one whose losses are visualized,\n",
    "# a parent to initialize keypoint optimization trajectory,\n",
    "# and a reference to sample registration target descriptors from.\n",
    "# parent and reference frames should be fully annotated\n",
    "frame_to_visualize = 600\n",
    "parent = 640\n",
    "reference = 498"
   ]
  },
  {
   "cell_type": "code",
   "execution_count": null,
   "metadata": {
    "pycharm": {
     "name": "#%%\n"
    }
   },
   "outputs": [],
   "source": [
    "# optimizes keypoint coordinates for t=frame_to_optimize, initialized at parent\n",
    "# and saves the trajectory over optimization epochs\n",
    "trajectory = get_optimization_trajectory(\n",
    "    frame_to_optimize=frame_to_visualize,\n",
    "    parent=parent,\n",
    "    reference=reference,\n",
    "    container=container,\n",
    "    results=results,\n",
    "    zephir=zephir,\n",
    "    zephod=zephod,\n",
    "    clip_grad=1.0,\n",
    "    lambda_t=-1,\n",
    "    lambda_d=1.0,\n",
    "    lambda_n=1.0,\n",
    "    lambda_n_mode='norm',\n",
    "    lr_ceiling=0.2,\n",
    "    lr_coef=2.0,\n",
    "    lr_floor=0.01,\n",
    "    n_epoch=40,\n",
    "    n_epoch_d=10,\n",
    ")"
   ]
  },
  {
   "cell_type": "code",
   "execution_count": null,
   "metadata": {
    "pycharm": {
     "name": "#%%\n"
    }
   },
   "outputs": [],
   "source": [
    "# plot loss maps for a single keypoint\n",
    "# top row: centered at optimized keypoint coordinate\n",
    "# bottom row: centered at manual annotation for the keypoint\n",
    "# left to right: crop of input volume, registration loss (L_R),\n",
    "# spatial regularization (L_N), feature detection loss (L_D),\n",
    "# sum of the three losses (L_R+L_N+L_D)\n",
    "losses_at_trajectory, losses_at_annotation = plot_loss_maps(\n",
    "    keypoint_to_visualize=40,\n",
    "    frame_to_visualize=frame_to_visualize,\n",
    "    reference=reference,\n",
    "    map_resolution=50,\n",
    "    map_size=20,\n",
    "    trajectory=trajectory,\n",
    "    container=container,\n",
    "    dimmer_ratio=0.1,\n",
    "    grid_shape=(5, 25, 25),\n",
    "    fovea_sigma=(1, 2.5, 2.5),\n",
    "    n_chunks=10,\n",
    "    zephod=zephod,\n",
    "    lambda_d=1.0,\n",
    "    lambda_n=1.0,\n",
    "    lambda_n_mode='norm',\n",
    ")"
   ]
  },
  {
   "cell_type": "code",
   "execution_count": null,
   "metadata": {},
   "outputs": [],
   "source": []
  }
 ],
 "metadata": {
  "kernelspec": {
   "display_name": "Python 3 (ipykernel)",
   "language": "python",
   "name": "python3"
  },
  "language_info": {
   "codemirror_mode": {
    "name": "ipython",
    "version": 3
   },
   "file_extension": ".py",
   "mimetype": "text/x-python",
   "name": "python",
   "nbconvert_exporter": "python",
   "pygments_lexer": "ipython3",
   "version": "3.9.12"
  }
 },
 "nbformat": 4,
 "nbformat_minor": 1
}